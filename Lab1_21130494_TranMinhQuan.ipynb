{
  "cells": [
    {
      "cell_type": "markdown",
      "metadata": {
        "id": "bK2mEu_J-vuG"
      },
      "source": [
        "Author: Trần Minh Quân - 21130494"
      ]
    },
    {
      "cell_type": "markdown",
      "metadata": {
        "id": "L18QIhMrKfs6"
      },
      "source": [
        "# Task1: Python programming"
      ]
    },
    {
      "cell_type": "markdown",
      "metadata": {
        "id": "snOnNyfn_GYg"
      },
      "source": [
        "## Task 1.1: Find max/min, total, sort list, count positive/negative\n",
        "Input:\n",
        "+ An integer **n**\n",
        "+ A list of integer numbers **x1, x2, ..., xn**\n",
        "\n",
        "Output:\n",
        "+ Print the maximum/minimum element in the given list\n",
        "+ Print total values of the list\n",
        "+ Print the list after sorted by ascending order\n",
        "+ Print number of positive/negative"
      ]
    },
    {
      "cell_type": "code",
      "execution_count": 1,
      "metadata": {
        "id": "2-u9RocT-dWL"
      },
      "outputs": [],
      "source": [
        "def printListInfo():\n",
        "  print(\"Number of elements: \")\n",
        "  n = int(input())\n",
        "  if n <= 0:\n",
        "    raise Exception(\"Number of elements must larger than 0\")\n",
        "\n",
        "  L = []\n",
        "  for i in range(1, n + 1):\n",
        "    print(f\"Element {i}: \")\n",
        "    element = int(input())\n",
        "    L.append(element)\n",
        "\n",
        "  print(f\"Max: {max(L)}\")\n",
        "  print(f\"Min: {min(L)}\")\n",
        "  print(f\"Total values: {sum(L)}\")\n",
        "  print(f\"List after sorted by ascending order: {sorted(L)}\")\n",
        "  print(f\"Number of positive elements: {sum(1 for element in L if element > 0)}\")\n",
        "  print(f\"Number of negative elements: {sum(1 for element in L if element < 0)}\")"
      ]
    },
    {
      "cell_type": "code",
      "execution_count": 2,
      "metadata": {
        "colab": {
          "base_uri": "https://localhost:8080/"
        },
        "id": "38ugNks3F0F1",
        "outputId": "5e3d2177-4ceb-4043-f2a9-1c3effc5be90"
      },
      "outputs": [
        {
          "output_type": "stream",
          "name": "stdout",
          "text": [
            "Number of elements: \n",
            "10\n",
            "Element 1: \n",
            "12\n",
            "Element 2: \n",
            "3\n",
            "Element 3: \n",
            "-5\n",
            "Element 4: \n",
            "-8\n",
            "Element 5: \n",
            "9\n",
            "Element 6: \n",
            "6\n",
            "Element 7: \n",
            "-11\n",
            "Element 8: \n",
            "20\n",
            "Element 9: \n",
            "-13\n",
            "Element 10: \n",
            "1\n",
            "Max: 20\n",
            "Min: -13\n",
            "Total values: 14\n",
            "List after sorted by ascending order: [-13, -11, -8, -5, 1, 3, 6, 9, 12, 20]\n",
            "Number of positive elements: 6\n",
            "Number of negative elements: 4\n"
          ]
        }
      ],
      "source": [
        "printListInfo()"
      ]
    },
    {
      "cell_type": "markdown",
      "metadata": {
        "id": "sy7-b7ssH9sT"
      },
      "source": [
        "## Task 1.2: Compute 1 + 1.2 + 1.2.3 + ..."
      ]
    },
    {
      "cell_type": "code",
      "execution_count": 3,
      "metadata": {
        "id": "cFBE8dpUGvdb"
      },
      "outputs": [],
      "source": [
        "def computeSpecialSum(n):\n",
        "  if n <= 0:\n",
        "    raise Exception(\"The given input must bigger than 0.\")\n",
        "\n",
        "  sum = 0\n",
        "  currentOperand = 1\n",
        "  for i in range(1,n + 1):\n",
        "    currentOperand *= i\n",
        "    sum += currentOperand\n",
        "\n",
        "  return sum\n"
      ]
    },
    {
      "cell_type": "code",
      "execution_count": 4,
      "metadata": {
        "colab": {
          "base_uri": "https://localhost:8080/"
        },
        "id": "os3RML5QJ4DZ",
        "outputId": "b83187ef-7bd1-48c2-baab-578b5a3912c6"
      },
      "outputs": [
        {
          "output_type": "stream",
          "name": "stdout",
          "text": [
            "1\n",
            "9\n",
            "153\n"
          ]
        }
      ],
      "source": [
        "print(computeSpecialSum(1))\n",
        "print(computeSpecialSum(3))\n",
        "print(computeSpecialSum(5))"
      ]
    },
    {
      "cell_type": "markdown",
      "metadata": {
        "id": "-W0OXOQ3KJkx"
      },
      "source": [
        "## Task 1.3: OOP"
      ]
    },
    {
      "cell_type": "markdown",
      "metadata": {
        "id": "n39kHfFXIwk6"
      },
      "source": [
        "Class **Post**"
      ]
    },
    {
      "cell_type": "code",
      "execution_count": 5,
      "metadata": {
        "id": "yhubmWspL2Es"
      },
      "outputs": [],
      "source": [
        "class Post():\n",
        "  def __init__(self, content, subject, likes):\n",
        "    self.content = content\n",
        "    self.subject = subject\n",
        "    self.likes = likes"
      ]
    },
    {
      "cell_type": "markdown",
      "metadata": {
        "id": "doIoLX1PIwk7"
      },
      "source": [
        "Class **Account** and all childs (**VerifiedAccount**, **NormalAccount**)"
      ]
    },
    {
      "cell_type": "code",
      "execution_count": 6,
      "metadata": {
        "id": "GOiROKFgKoc7"
      },
      "outputs": [],
      "source": [
        "class Account():\n",
        "  def __init__(self, name, email, country, friends, posts):\n",
        "    self.name = name\n",
        "    self.email = email\n",
        "    self.country = country\n",
        "    self.friends = friends\n",
        "    self.posts = posts\n",
        "\n",
        "  # Get the highest number of likes in posts\n",
        "  def getMaxLike(self):\n",
        "    return max(post.likes for post in self.posts)\n",
        "\n",
        "  # Find the account having the post with the highest likes from the list of friends\n",
        "  def getMaxLikePostByFriend(self):\n",
        "    maxLike = -1;\n",
        "    account = None;\n",
        "    for friend in self.friends:\n",
        "      if friend.getMaxLike() > maxLike:\n",
        "        maxLike = friend.getMaxLike()\n",
        "        account = friend\n",
        "    return account\n",
        "\n",
        "  def toString(self):\n",
        "      return f\"Name: {self.name}, Country: {self.country}, NumFriends: {len(self.friends)}, NumPosts: {len(self.posts)}, MaxLike: {self.getMaxLike()}\"\n",
        "\n",
        "  def __str__(self):\n",
        "    return f\"[{self.toString()}]\""
      ]
    },
    {
      "cell_type": "code",
      "execution_count": 7,
      "metadata": {
        "id": "YvSBAQ-zIwk8"
      },
      "outputs": [],
      "source": [
        "class NormalAccount(Account):\n",
        "    def __init__(self, name, email, country, friends, posts):\n",
        "        super().__init__(name=name, email=email, country=country, friends=friends, posts=posts)\n",
        "\n",
        "    def __str__(self):\n",
        "        return f\"[Type: Normal, {self.toString()}]\""
      ]
    },
    {
      "cell_type": "code",
      "execution_count": 8,
      "metadata": {
        "id": "WM-9Tw0IIwk9"
      },
      "outputs": [],
      "source": [
        "class VerifiedAccount(Account):\n",
        "    def __init__(self, name, email, country, friends, posts, fromDate):\n",
        "        self.fromDate = fromDate\n",
        "        super().__init__(name=name, email=email, country=country, friends=friends, posts=posts)\n",
        "\n",
        "    def __str__(self):\n",
        "        return f\"[Type: Verified, {self.toString()}, fromDate: {self.fromDate}]\""
      ]
    },
    {
      "cell_type": "markdown",
      "metadata": {
        "id": "tsjy2Ho5Iwk9"
      },
      "source": [
        "Class **AccountManager**"
      ]
    },
    {
      "cell_type": "code",
      "execution_count": 9,
      "metadata": {
        "id": "Kfapk9lkMDG9"
      },
      "outputs": [],
      "source": [
        "class AccountManager():\n",
        "  def __init__(self, accounts):\n",
        "    self.accounts = accounts\n",
        "\n",
        "  def groupAccountsByPostLike(self):\n",
        "    groups = {False: [], True: []}\n",
        "    for account in self.accounts:\n",
        "      if len(account.posts) < 10:\n",
        "        groups[False].append(account)\n",
        "      else:\n",
        "        groups[True].append(account)\n",
        "    return groups\n",
        "\n",
        "  def filterAccounts(self, country):\n",
        "    accountsByCountry = filter(lambda account: account.country == country, self.accounts)\n",
        "    return sorted(accountsByCountry, key=lambda account: (-len(account.posts), account.name))\n",
        "\n",
        "  def __str__(self):\n",
        "    result = \"[\\n\"\n",
        "    for account in self.accounts:\n",
        "      result += account.__str__() + \", \\n\"\n",
        "    result += \"]\"\n",
        "    return result"
      ]
    },
    {
      "cell_type": "markdown",
      "metadata": {
        "id": "g1Ifxw86Iwk-"
      },
      "source": [
        "Additional function: generate tests"
      ]
    },
    {
      "cell_type": "code",
      "execution_count": 10,
      "metadata": {
        "id": "gGi0oUb1Iwk-"
      },
      "outputs": [],
      "source": [
        "from random import randint, random, seed\n",
        "from datetime import datetime\n",
        "\n",
        "seed(999) # Special seed, make the result consitent for every time we run.\n",
        "\n",
        "def generate_fake_data(numAccounts, rangePosts, rangeLikes, rangeFriends):\n",
        "    accounts = []\n",
        "    firstNames = [\"Alice\", \"Benjamin\", \"Catherine\", \"Dylan\", \"Eva\", \"Felix\", \"Grace\", \"Harrison\", \"Isabel\", \"Jacob\"]\n",
        "    lastNames = [\"Anderson\", \"Baxter\", \"Cruz\", \"Dixon\", \"Ellis\", \"Fleming\", \"Garcia\", \"Hawkins\", \"Ingram\", \"Johnson\"]\n",
        "    countries = [\"Australia\", \"Brazil\", \"Canada\", \"Denmark\", \"Egypt\", \"France\", \"Germany\", \"India\", \"Japan\", \"Kenya\"]\n",
        "    probVerified = 0.2;\n",
        "    # Create random account profile\n",
        "    for i in range(numAccounts):\n",
        "        firstName = firstNames[randint(0, len(firstNames) - 1)]\n",
        "        lastName = lastNames[randint(0, len(lastNames) - 1)]\n",
        "        name = firstName + \" \" + lastName\n",
        "        email = firstName.lower() + \"_\" + lastName.lower() +\"@gmail.com\"\n",
        "        country = countries[randint(0, len(countries) - 1)]\n",
        "        numPost = randint(rangePosts[0], rangePosts[1])\n",
        "        posts = []\n",
        "        # Create random posts\n",
        "        for j in range(numPost):\n",
        "            likes = randint(rangeLikes[0], rangeLikes[1])\n",
        "            posts.append(Post(content=\"Temp content\", subject=\"Temp subject\", likes=likes))\n",
        "        #Make account becomes Verified (20%) or just Normal (80%)\n",
        "        if(random() < 0.2):\n",
        "            fromDate = datetime(randint(2018, 2024), randint(1, 12), randint(1, 28))\n",
        "            accounts.append(VerifiedAccount(name=name, email=email, country=country, friends=[], posts=posts, fromDate=fromDate))\n",
        "        else:\n",
        "            accounts.append(NormalAccount(name=name, email=email, country=country, friends=[], posts=posts))\n",
        "\n",
        "\n",
        "    # Make all accounts in the list have friends\n",
        "    for accountIndex in range(len(accounts)):\n",
        "        account = accounts[accountIndex]\n",
        "        numFriends = randint(rangeFriends[0], rangeFriends[1])\n",
        "        currentFriends = 0\n",
        "        while currentFriends < numFriends:\n",
        "            otherAccountIndex = randint(0, len(accounts) - 1)\n",
        "            if(otherAccountIndex != i):\n",
        "                currentFriends += 1\n",
        "                account.friends.append(accounts[otherAccountIndex])\n",
        "\n",
        "    return AccountManager(accounts=accounts)"
      ]
    },
    {
      "cell_type": "code",
      "execution_count": 11,
      "metadata": {
        "id": "P-hRHzA9IwlA"
      },
      "outputs": [],
      "source": [
        "def printList(list):\n",
        "    for element in list:\n",
        "        print(element)"
      ]
    },
    {
      "cell_type": "code",
      "execution_count": 12,
      "metadata": {
        "id": "A5qL8pkGIwlA"
      },
      "outputs": [],
      "source": [
        "account_manager = generate_fake_data(numAccounts=20, rangePosts=[1, 20], rangeLikes=[0, 100], rangeFriends=[1,5])"
      ]
    },
    {
      "cell_type": "markdown",
      "metadata": {
        "id": "UOYZRpT7IwlA"
      },
      "source": [
        "Show all accounts"
      ]
    },
    {
      "cell_type": "code",
      "execution_count": 13,
      "metadata": {
        "colab": {
          "base_uri": "https://localhost:8080/"
        },
        "id": "7AUst-udIwlB",
        "outputId": "5fc88a07-6e27-4b9e-a31e-084f9bc2f473"
      },
      "outputs": [
        {
          "output_type": "stream",
          "name": "stdout",
          "text": [
            "[\n",
            "[Type: Normal, Name: Benjamin Johnson, Country: Kenya, NumFriends: 3, NumPosts: 18, MaxLike: 99], \n",
            "[Type: Normal, Name: Dylan Garcia, Country: Brazil, NumFriends: 3, NumPosts: 9, MaxLike: 86], \n",
            "[Type: Normal, Name: Benjamin Ingram, Country: Kenya, NumFriends: 3, NumPosts: 15, MaxLike: 95], \n",
            "[Type: Normal, Name: Eva Ingram, Country: France, NumFriends: 4, NumPosts: 2, MaxLike: 98], \n",
            "[Type: Normal, Name: Benjamin Garcia, Country: Kenya, NumFriends: 1, NumPosts: 18, MaxLike: 80], \n",
            "[Type: Normal, Name: Benjamin Garcia, Country: Kenya, NumFriends: 2, NumPosts: 4, MaxLike: 89], \n",
            "[Type: Normal, Name: Harrison Anderson, Country: Kenya, NumFriends: 3, NumPosts: 15, MaxLike: 100], \n",
            "[Type: Normal, Name: Grace Cruz, Country: India, NumFriends: 3, NumPosts: 18, MaxLike: 99], \n",
            "[Type: Normal, Name: Jacob Hawkins, Country: Japan, NumFriends: 5, NumPosts: 1, MaxLike: 49], \n",
            "[Type: Normal, Name: Isabel Fleming, Country: Kenya, NumFriends: 3, NumPosts: 5, MaxLike: 57], \n",
            "[Type: Normal, Name: Alice Ingram, Country: France, NumFriends: 3, NumPosts: 16, MaxLike: 99], \n",
            "[Type: Normal, Name: Felix Cruz, Country: Australia, NumFriends: 3, NumPosts: 8, MaxLike: 98], \n",
            "[Type: Normal, Name: Isabel Garcia, Country: France, NumFriends: 3, NumPosts: 6, MaxLike: 99], \n",
            "[Type: Verified, Name: Isabel Ellis, Country: Canada, NumFriends: 2, NumPosts: 11, MaxLike: 97, fromDate: 2024-11-09 00:00:00], \n",
            "[Type: Normal, Name: Grace Cruz, Country: Australia, NumFriends: 4, NumPosts: 14, MaxLike: 96], \n",
            "[Type: Verified, Name: Grace Johnson, Country: Japan, NumFriends: 5, NumPosts: 9, MaxLike: 95, fromDate: 2021-03-04 00:00:00], \n",
            "[Type: Verified, Name: Catherine Dixon, Country: Japan, NumFriends: 2, NumPosts: 1, MaxLike: 83, fromDate: 2023-09-14 00:00:00], \n",
            "[Type: Normal, Name: Eva Ingram, Country: France, NumFriends: 3, NumPosts: 14, MaxLike: 97], \n",
            "[Type: Normal, Name: Alice Baxter, Country: Egypt, NumFriends: 3, NumPosts: 14, MaxLike: 98], \n",
            "[Type: Normal, Name: Grace Anderson, Country: Kenya, NumFriends: 2, NumPosts: 10, MaxLike: 95], \n",
            "]\n"
          ]
        }
      ],
      "source": [
        "print(account_manager)"
      ]
    },
    {
      "cell_type": "markdown",
      "metadata": {
        "id": "5GhFbU47IwlB"
      },
      "source": [
        "Test **getMaxLikePostByFriend()**"
      ]
    },
    {
      "cell_type": "code",
      "execution_count": 14,
      "metadata": {
        "colab": {
          "base_uri": "https://localhost:8080/"
        },
        "id": "Xd8jwGIaIwlB",
        "outputId": "79a0b2c1-3679-43f5-9109-ac485eb0ad88"
      },
      "outputs": [
        {
          "output_type": "stream",
          "name": "stdout",
          "text": [
            "Friends list: \n",
            "[Type: Normal, Name: Benjamin Ingram, Country: Kenya, NumFriends: 3, NumPosts: 15, MaxLike: 95]\n",
            "[Type: Normal, Name: Benjamin Garcia, Country: Kenya, NumFriends: 1, NumPosts: 18, MaxLike: 80]\n",
            "[Type: Normal, Name: Grace Cruz, Country: India, NumFriends: 3, NumPosts: 18, MaxLike: 99]\n",
            "----------------------------------\n",
            "The friend who have highest likes:\n",
            "[Type: Normal, Name: Grace Cruz, Country: India, NumFriends: 3, NumPosts: 18, MaxLike: 99]\n"
          ]
        }
      ],
      "source": [
        "account = account_manager.accounts[0]\n",
        "print(\"Friends list: \")\n",
        "printList(account.friends)\n",
        "print(\"----------------------------------\")\n",
        "print(\"The friend who have highest likes:\")\n",
        "print(account.getMaxLikePostByFriend())"
      ]
    },
    {
      "cell_type": "markdown",
      "metadata": {
        "id": "HkNIEzUqIwlC"
      },
      "source": [
        "Test **groupAccountsByPostLike()**"
      ]
    },
    {
      "cell_type": "code",
      "execution_count": 15,
      "metadata": {
        "colab": {
          "base_uri": "https://localhost:8080/"
        },
        "id": "5Tc2udIVIwlC",
        "outputId": "72604a99-381c-427c-9be8-27e3b1bbb9da"
      },
      "outputs": [
        {
          "output_type": "stream",
          "name": "stdout",
          "text": [
            "Less than 10 posts\n",
            "[Type: Normal, Name: Dylan Garcia, Country: Brazil, NumFriends: 3, NumPosts: 9, MaxLike: 86]\n",
            "[Type: Normal, Name: Eva Ingram, Country: France, NumFriends: 4, NumPosts: 2, MaxLike: 98]\n",
            "[Type: Normal, Name: Benjamin Garcia, Country: Kenya, NumFriends: 2, NumPosts: 4, MaxLike: 89]\n",
            "[Type: Normal, Name: Jacob Hawkins, Country: Japan, NumFriends: 5, NumPosts: 1, MaxLike: 49]\n",
            "[Type: Normal, Name: Isabel Fleming, Country: Kenya, NumFriends: 3, NumPosts: 5, MaxLike: 57]\n",
            "[Type: Normal, Name: Felix Cruz, Country: Australia, NumFriends: 3, NumPosts: 8, MaxLike: 98]\n",
            "[Type: Normal, Name: Isabel Garcia, Country: France, NumFriends: 3, NumPosts: 6, MaxLike: 99]\n",
            "[Type: Verified, Name: Grace Johnson, Country: Japan, NumFriends: 5, NumPosts: 9, MaxLike: 95, fromDate: 2021-03-04 00:00:00]\n",
            "[Type: Verified, Name: Catherine Dixon, Country: Japan, NumFriends: 2, NumPosts: 1, MaxLike: 83, fromDate: 2023-09-14 00:00:00]\n",
            "-----------------------------------------------\n",
            "Equal or more than 10 posts\n",
            "[Type: Normal, Name: Benjamin Johnson, Country: Kenya, NumFriends: 3, NumPosts: 18, MaxLike: 99]\n",
            "[Type: Normal, Name: Benjamin Ingram, Country: Kenya, NumFriends: 3, NumPosts: 15, MaxLike: 95]\n",
            "[Type: Normal, Name: Benjamin Garcia, Country: Kenya, NumFriends: 1, NumPosts: 18, MaxLike: 80]\n",
            "[Type: Normal, Name: Harrison Anderson, Country: Kenya, NumFriends: 3, NumPosts: 15, MaxLike: 100]\n",
            "[Type: Normal, Name: Grace Cruz, Country: India, NumFriends: 3, NumPosts: 18, MaxLike: 99]\n",
            "[Type: Normal, Name: Alice Ingram, Country: France, NumFriends: 3, NumPosts: 16, MaxLike: 99]\n",
            "[Type: Verified, Name: Isabel Ellis, Country: Canada, NumFriends: 2, NumPosts: 11, MaxLike: 97, fromDate: 2024-11-09 00:00:00]\n",
            "[Type: Normal, Name: Grace Cruz, Country: Australia, NumFriends: 4, NumPosts: 14, MaxLike: 96]\n",
            "[Type: Normal, Name: Eva Ingram, Country: France, NumFriends: 3, NumPosts: 14, MaxLike: 97]\n",
            "[Type: Normal, Name: Alice Baxter, Country: Egypt, NumFriends: 3, NumPosts: 14, MaxLike: 98]\n",
            "[Type: Normal, Name: Grace Anderson, Country: Kenya, NumFriends: 2, NumPosts: 10, MaxLike: 95]\n"
          ]
        }
      ],
      "source": [
        "groups = account_manager.groupAccountsByPostLike()\n",
        "print(\"Less than 10 posts\")\n",
        "printList(groups[False])\n",
        "print(\"-----------------------------------------------\")\n",
        "print(\"Equal or more than 10 posts\")\n",
        "printList(groups[True])"
      ]
    },
    {
      "cell_type": "markdown",
      "metadata": {
        "id": "_w64YJ44IwlD"
      },
      "source": [
        "Test **filterAccounts(country)**"
      ]
    },
    {
      "cell_type": "code",
      "execution_count": 16,
      "metadata": {
        "colab": {
          "base_uri": "https://localhost:8080/"
        },
        "id": "1nZswnbfIwlD",
        "outputId": "a7107905-882c-41ef-a14d-74eb81f0e6fc"
      },
      "outputs": [
        {
          "output_type": "stream",
          "name": "stdout",
          "text": [
            "[Type: Normal, Name: Benjamin Garcia, Country: Kenya, NumFriends: 1, NumPosts: 18, MaxLike: 80]\n",
            "[Type: Normal, Name: Benjamin Johnson, Country: Kenya, NumFriends: 3, NumPosts: 18, MaxLike: 99]\n",
            "[Type: Normal, Name: Benjamin Ingram, Country: Kenya, NumFriends: 3, NumPosts: 15, MaxLike: 95]\n",
            "[Type: Normal, Name: Harrison Anderson, Country: Kenya, NumFriends: 3, NumPosts: 15, MaxLike: 100]\n",
            "[Type: Normal, Name: Grace Anderson, Country: Kenya, NumFriends: 2, NumPosts: 10, MaxLike: 95]\n",
            "[Type: Normal, Name: Isabel Fleming, Country: Kenya, NumFriends: 3, NumPosts: 5, MaxLike: 57]\n",
            "[Type: Normal, Name: Benjamin Garcia, Country: Kenya, NumFriends: 2, NumPosts: 4, MaxLike: 89]\n"
          ]
        }
      ],
      "source": [
        "for account in account_manager.filterAccounts(country=\"Kenya\"):\n",
        "    print(account)"
      ]
    },
    {
      "cell_type": "markdown",
      "metadata": {
        "id": "pvE62Dz0IwlD"
      },
      "source": [
        "# Task 2: NumPy"
      ]
    },
    {
      "cell_type": "markdown",
      "metadata": {
        "id": "SgdtuxURIwlE"
      },
      "source": [
        "## Task 2.1: Arange array and reverse it"
      ]
    },
    {
      "cell_type": "code",
      "execution_count": 17,
      "metadata": {
        "id": "JH-PiHHsIwlE"
      },
      "outputs": [],
      "source": [
        "import numpy as np\n",
        "\n",
        "def arangeAndReverse():\n",
        "    return np.flip(np.arange(10, 25 + 1, 1))"
      ]
    },
    {
      "cell_type": "code",
      "execution_count": 18,
      "metadata": {
        "colab": {
          "base_uri": "https://localhost:8080/"
        },
        "id": "hJPOMU58IwlE",
        "outputId": "bdb986b5-2600-495b-b0e0-bc9790491736"
      },
      "outputs": [
        {
          "output_type": "stream",
          "name": "stdout",
          "text": [
            "[25 24 23 22 21 20 19 18 17 16 15 14 13 12 11 10]\n"
          ]
        }
      ],
      "source": [
        "print(arangeAndReverse())"
      ]
    },
    {
      "cell_type": "markdown",
      "metadata": {
        "id": "dGnkon-nIwlE"
      },
      "source": [
        "## Task 2.2: Repeating array"
      ]
    },
    {
      "cell_type": "code",
      "execution_count": 19,
      "metadata": {
        "id": "baaH7n9fIwlF"
      },
      "outputs": [],
      "source": [
        "def repeatingArray(arr, times):\n",
        "    return np.tile(arr, times)"
      ]
    },
    {
      "cell_type": "code",
      "execution_count": 20,
      "metadata": {
        "colab": {
          "base_uri": "https://localhost:8080/"
        },
        "id": "IvIKpdNQIwlF",
        "outputId": "694e4fff-c658-425c-b12e-7de55d98a2ea"
      },
      "outputs": [
        {
          "output_type": "execute_result",
          "data": {
            "text/plain": [
              "array([1, 9, 7, 5, 1, 9, 7, 5, 1, 9, 7, 5, 1, 9, 7, 5, 1, 9, 7, 5])"
            ]
          },
          "metadata": {},
          "execution_count": 20
        }
      ],
      "source": [
        "repeatingArray([1,9,7,5], 5)"
      ]
    },
    {
      "cell_type": "markdown",
      "metadata": {
        "id": "w5wqPP3XIwlF"
      },
      "source": [
        "## Task 2.3: Replace some elements by specific value"
      ]
    },
    {
      "cell_type": "code",
      "execution_count": 21,
      "metadata": {
        "id": "6r10xlY-IwlG"
      },
      "outputs": [],
      "source": [
        "def replace(matrix, threshold):\n",
        "    matrix[matrix > threshold] = threshold"
      ]
    },
    {
      "cell_type": "code",
      "execution_count": 22,
      "metadata": {
        "colab": {
          "base_uri": "https://localhost:8080/"
        },
        "id": "On5d4NpYIwlG",
        "outputId": "d8741bb2-0fe7-483b-9f51-1e742e4fb5bb"
      },
      "outputs": [
        {
          "output_type": "execute_result",
          "data": {
            "text/plain": [
              "array([[0.42, 0.48, 0.32],\n",
              "       [0.5 , 0.5 , 0.38],\n",
              "       [0.5 , 0.34, 0.15]])"
            ]
          },
          "metadata": {},
          "execution_count": 22
        }
      ],
      "source": [
        "matrix = np.array([[0.42, 0.48, 0.32],[0.74, 0.58, 0.38],[0.51, 0.34, 0.15]])\n",
        "replace(matrix, 0.5)\n",
        "matrix"
      ]
    }
  ],
  "metadata": {
    "colab": {
      "provenance": []
    },
    "kernelspec": {
      "display_name": "Python 3",
      "name": "python3"
    },
    "language_info": {
      "codemirror_mode": {
        "name": "ipython",
        "version": 3
      },
      "file_extension": ".py",
      "mimetype": "text/x-python",
      "name": "python",
      "nbconvert_exporter": "python",
      "pygments_lexer": "ipython3",
      "version": "3.11.8"
    }
  },
  "nbformat": 4,
  "nbformat_minor": 0
}